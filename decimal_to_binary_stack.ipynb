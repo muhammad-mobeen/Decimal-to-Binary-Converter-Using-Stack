{
  "nbformat": 4,
  "nbformat_minor": 0,
  "metadata": {
    "colab": {
      "name": "decimal_to_binary_stack.ipynb",
      "provenance": [],
      "collapsed_sections": [],
      "authorship_tag": "ABX9TyMQWLFN2ui33SyeW7lBy602",
      "include_colab_link": true
    },
    "kernelspec": {
      "name": "python3",
      "display_name": "Python 3"
    },
    "language_info": {
      "name": "python"
    }
  },
  "cells": [
    {
      "cell_type": "markdown",
      "metadata": {
        "id": "view-in-github",
        "colab_type": "text"
      },
      "source": [
        "<a href=\"https://colab.research.google.com/github/muhammad-mobeen/Decimal-to-Binary-Converter-Using-Stack/blob/main/decimal_to_binary_stack.ipynb\" target=\"_parent\"><img src=\"https://colab.research.google.com/assets/colab-badge.svg\" alt=\"Open In Colab\"/></a>"
      ]
    },
    {
      "cell_type": "code",
      "metadata": {
        "id": "7Vm-AbsIEHu8"
      },
      "source": [
        "from collections import deque"
      ],
      "execution_count": 1,
      "outputs": []
    },
    {
      "cell_type": "code",
      "metadata": {
        "id": "kxQ6Y-1tDZ8u"
      },
      "source": [
        "class Stack:                                        # class for making a stack\n",
        "    def __init__(self):                             # constructor\n",
        "        self.control = deque()                      # initializing class object as a deque\n",
        "\n",
        "    def push(self, value):                          # function for appending stack\n",
        "        self.control.append(value)\n",
        "\n",
        "    def pop(self):                                  # function to pop out latest value\n",
        "        return self.control.pop()\n",
        "\n",
        "    def size(self):                                 # returns the size of stack\n",
        "        return len(self.control)\n",
        "\n",
        "    def is_empty(self):                             # returns if stack is empty or not\n",
        "        return len(self.control) == 0\n",
        "\n",
        "    def show(self):                                 # pops whole stack and prints it\n",
        "        for x in range(len(self.control)):\n",
        "            print(self.control.pop(), end=\" \")"
      ],
      "execution_count": 21,
      "outputs": []
    },
    {
      "cell_type": "code",
      "metadata": {
        "id": "4DdGOMSlEcp7"
      },
      "source": [
        "def dec_to_binary(dec):\n",
        "  deci = dec\n",
        "  s = Stack()\n",
        "  while dec not in [0,1]:\n",
        "    s.push(dec % 2)\n",
        "    dec = int(dec / 2)\n",
        "  s.push(dec)\n",
        "  print(\"The binary representation of {} is:\".format(deci), end=\" \")\n",
        "  s.show()"
      ],
      "execution_count": 30,
      "outputs": []
    },
    {
      "cell_type": "code",
      "metadata": {
        "id": "DU3FxmKLHjsX"
      },
      "source": [
        "dec_to_binary(5)"
      ],
      "execution_count": null,
      "outputs": []
    }
  ]
}